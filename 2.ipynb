{
 "cells": [
  {
   "cell_type": "markdown",
   "id": "89991c99",
   "metadata": {},
   "source": [
    "Kondisi Percabangan adalah sebuah cara komputer untuk mengambil keputusan, jika terdapat 2 atau lebih statement"
   ]
  },
  {
   "cell_type": "code",
   "execution_count": 3,
   "id": "ce8fdc99",
   "metadata": {},
   "outputs": [
    {
     "name": "stdout",
     "output_type": "stream",
     "text": [
      "Isikan Bilangan:12\n",
      "12 nilai, adalah bilangan genap\n"
     ]
    }
   ],
   "source": [
    "nilai = int(input('Isikan Bilangan:'))\n",
    "sisa_bagi = nilai % 2\n",
    "if sisa_bagi ==0:\n",
    "    print(nilai,\"nilai, adalah bilangan genap\")\n",
    "else:\n",
    "    print(f\"{nilai} adalah bilangan ganjil\")"
   ]
  },
  {
   "cell_type": "markdown",
   "id": "62496b54",
   "metadata": {},
   "source": [
    "2. Jika terdapat 2 Kondisi\n",
    "\n",
    "Sintaknya:\n",
    "<tab>statement1\n",
    "elif kondisi_2:\n",
    "<tab>statement 2\n",
    "else:\n",
    "<tab>statement_3"
   ]
  },
  {
   "cell_type": "code",
   "execution_count": 11,
   "id": "e6161935",
   "metadata": {},
   "outputs": [
    {
     "name": "stdout",
     "output_type": "stream",
     "text": [
      "Isikan Nilai Pemrograma Mahasiswa:91\n",
      "Nilai Huruf Mahasiswa: A\n"
     ]
    }
   ],
   "source": [
    "# 0 - 49 => E\n",
    "# 50 - 59 => D\n",
    "# 60 -69 => C\n",
    "# 70 - 84 => B\n",
    "# 85 - 100 => A\n",
    "\n",
    "nilai_mhs = int(input('Isikan Nilai Pemrograma Mahasiswa:'))\n",
    "\n",
    "if nilai_mhs >=0 and nilai_mhs < 49:\n",
    "    keterangan = \"E\"\n",
    "elif nilai_mhs >=50 and nilai_mhs <59:\n",
    "    keterangan = \"D\"\n",
    "elif nilai_mhs >=60 and nilai_mhs <69:\n",
    "    keterangan = \"C\"\n",
    "elif nilai_mhs >=70 and nilai_mhs <84:\n",
    "    keterangan = \"B\"\n",
    "elif nilai_mhs >=85 and nilai_mhs <100:\n",
    "    keterangan = \"A\"\n",
    "print(\"Nilai Huruf Mahasiswa:\", keterangan)"
   ]
  }
 ],
 "metadata": {
  "kernelspec": {
   "display_name": "Python 3 (ipykernel)",
   "language": "python",
   "name": "python3"
  },
  "language_info": {
   "codemirror_mode": {
    "name": "ipython",
    "version": 3
   },
   "file_extension": ".py",
   "mimetype": "text/x-python",
   "name": "python",
   "nbconvert_exporter": "python",
   "pygments_lexer": "ipython3",
   "version": "3.9.12"
  }
 },
 "nbformat": 4,
 "nbformat_minor": 5
}
