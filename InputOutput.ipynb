{
 "cells": [
  {
   "cell_type": "code",
   "execution_count": 29,
   "id": "b17a5ad0",
   "metadata": {},
   "outputs": [
    {
     "name": "stdout",
     "output_type": "stream",
     "text": [
      "Isikan Nama Awal : Mohammad\n",
      "Isikan Nama Tengah : Rizqi\n",
      "Isikan Nama Akhir : Wijaya\n",
      "Selamat Datang Mohammad Rizqi Wijaya S.Kom\n"
     ]
    }
   ],
   "source": [
    "fname = input('Isikan Nama Awal : ')\n",
    "mname = input('Isikan Nama Tengah : ')\n",
    "lname = input('Isikan Nama Akhir : ')\n",
    "\n",
    "print('Selamat Datang',fname,mname,lname,\"S.Kom\")"
   ]
  },
  {
   "cell_type": "code",
   "execution_count": 31,
   "id": "514ad837",
   "metadata": {},
   "outputs": [
    {
     "name": "stdout",
     "output_type": "stream",
     "text": [
      "Isikan Bilangan 1 : 12\n",
      "Isikan Bilangan 2  : 5\n",
      "<class 'str'>\n",
      "Hasil Penjumlahan : 17\n"
     ]
    }
   ],
   "source": [
    "bil1 = input('Isikan Bilangan 1 = ')\n",
    "bil2 = input('Isikan Bilangan 2  = ')\n",
    "print(type(bil1))\n",
    "hasil = int(bil1) + int(bil2)\n",
    "print('Hasil Penjumlahan =', hasil)"
   ]
  },
  {
   "cell_type": "code",
   "execution_count": 37,
   "id": "023840a8",
   "metadata": {},
   "outputs": [
    {
     "name": "stdout",
     "output_type": "stream",
     "text": [
      "Panjang = 12\n",
      "Lebar = 13\n",
      "<class 'str'>\n",
      "Luas = 156 cm\n",
      "Keliling = 50 cm\n"
     ]
    }
   ],
   "source": [
    "P = input('Panjang = ')\n",
    "L = input('Lebar = ')\n",
    "print(type(P))\n",
    "luas = int(P)*int(L)\n",
    "print('Luas =',luas,\"cm\")\n",
    "keliling = 2 * (int(P) + int(L))\n",
    "print('Keliling =',keliling,\"cm\")"
   ]
  },
  {
   "cell_type": "code",
   "execution_count": 13,
   "id": "45f807f5",
   "metadata": {},
   "outputs": [
    {
     "name": "stdout",
     "output_type": "stream",
     "text": [
      "Januari#Febuary#Maret#April\n"
     ]
    }
   ],
   "source": [
    "print(\"Januari\", \"Febuary\", \"Maret\", \"April\", sep=\"#\")\n"
   ]
  },
  {
   "cell_type": "code",
   "execution_count": 27,
   "id": "63f724f1",
   "metadata": {},
   "outputs": [
    {
     "name": "stdout",
     "output_type": "stream",
     "text": [
      "Senin@Selasa@Rabu@Kamis@Jumat@Sabtu@Minggu^_^One\n",
      "Two\n",
      "Three\n",
      "Four\n"
     ]
    }
   ],
   "source": [
    "print(\"Senin\", \"Selasa\", \"Rabu\", \"Kamis\", \"Jumat\", \"Sabtu\", \"Minggu\",sep=\"@\",end=\"^_^\")\n",
    "print(\"One\", \"Two\", \"Three\", \"Four\",sep=\"\\n\")"
   ]
  },
  {
   "cell_type": "code",
   "execution_count": 19,
   "id": "600bbaa8",
   "metadata": {},
   "outputs": [
    {
     "name": "stdout",
     "output_type": "stream",
     "text": [
      "perkalian 7 dengan 10 adalah 70\n"
     ]
    }
   ],
   "source": [
    "number1 = 7\n",
    "number2 = 10\n",
    "\n",
    "# Hasil perkalian 7 dengan 10 adalah 70\n",
    "print(\"perkalian {} dengan {} adalah {}\".format(number1,number2,number1 * number2))"
   ]
  },
  {
   "cell_type": "code",
   "execution_count": 24,
   "id": "71db0f79",
   "metadata": {},
   "outputs": [
    {
     "name": "stdout",
     "output_type": "stream",
     "text": [
      "Urutan Huruf WijayaRizqiMohammad\n"
     ]
    }
   ],
   "source": [
    "first_letter = \"Mohammad\"\n",
    "mid_letter = \"Rizqi\"\n",
    "last_letter = \"Wijaya\"\n",
    "print(\"Urutan Huruf {2}{1}{0}\".format(first_letter,mid_letter,last_letter))"
   ]
  },
  {
   "cell_type": "code",
   "execution_count": 34,
   "id": "4a59e276",
   "metadata": {},
   "outputs": [
    {
     "name": "stdout",
     "output_type": "stream",
     "text": [
      "Sekarang Tanggal 20 Bulan Maret Tahun 2024\n"
     ]
    }
   ],
   "source": [
    "# Sekarang tanggal 20 Bulan Maret Tahun 2024\n",
    "print(\"Sekarang Tanggal {tanggal} Bulan {bulan} Tahun {tahun}\".format(tanggal = 20,bulan=\"Maret\",tahun=2024))"
   ]
  },
  {
   "cell_type": "code",
   "execution_count": 44,
   "id": "2e2e09cf",
   "metadata": {},
   "outputs": [
    {
     "name": "stdout",
     "output_type": "stream",
     "text": [
      "Huruf pertama adalah: U\n",
      "Huruf Terakhir adalah: a\n",
      "Huruf Range 0-10: Universitas\n",
      "Putra\n",
      "Nusa Putra\n",
      "artuP asuN satisrevinU\n"
     ]
    }
   ],
   "source": [
    "kampus = \"Universitas Nusa Putra\"\n",
    "print(\"Huruf pertama adalah:\", kampus[0])\n",
    "print(\"Huruf Terakhir adalah:\",kampus[-1])\n",
    "print(\"Huruf Range 0-10:\",kampus[0:11])\n",
    "print(kampus[-5:])\n",
    "print(kampus[12:])\n",
    "# Reverse String\n",
    "print(kampus[])\n"
   ]
  },
  {
   "cell_type": "code",
   "execution_count": 50,
   "id": "70771c78",
   "metadata": {},
   "outputs": [
    {
     "name": "stdout",
     "output_type": "stream",
     "text": [
      "['Jakarta', 'Sukabumi', 'Malang', 'Bandung', 'Surabaya']\n",
      "Jakarta\n",
      "Jakarta@Sukabumi@Malang@Bandung@Surabaya\n"
     ]
    }
   ],
   "source": [
    "# Split => String -> List\n",
    "kota = \"Jakarta Sukabumi Malang Bandung Surabaya\"\n",
    "list_kota = kota.split()\n",
    "print(list_kota)\n",
    "print(list_kota[0])\n",
    "# Join => List -> String\n",
    "join_kota = \"@\".join(list_kota)\n",
    "print(join_kota)"
   ]
  },
  {
   "cell_type": "code",
   "execution_count": 94,
   "id": "9de87326",
   "metadata": {},
   "outputs": [
    {
     "name": "stdout",
     "output_type": "stream",
     "text": [
      "Isikan Nama Anda : Rizqi wijaya\n",
      "Isikan Tanggal Lahir : 18/02/2004\n",
      "Nama Awal : Rizqi\n",
      "Nama Akhir : Wijaya\n"
     ]
    },
    {
     "ename": "IndexError",
     "evalue": "list index out of range",
     "output_type": "error",
     "traceback": [
      "\u001b[1;31m---------------------------------------------------------------------------\u001b[0m",
      "\u001b[1;31mIndexError\u001b[0m                                Traceback (most recent call last)",
      "Input \u001b[1;32mIn [94]\u001b[0m, in \u001b[0;36m<cell line: 19>\u001b[1;34m()\u001b[0m\n\u001b[0;32m     21\u001b[0m \u001b[38;5;28;01melif\u001b[39;00m list_Tgl[\u001b[38;5;241m2\u001b[39m]\u001b[38;5;241m==\u001b[39m\u001b[38;5;124m\"\u001b[39m\u001b[38;5;124m02\u001b[39m\u001b[38;5;124m\"\u001b[39m :\n\u001b[0;32m     22\u001b[0m     keterangan \u001b[38;5;241m=\u001b[39m\u001b[38;5;124m\"\u001b[39m\u001b[38;5;124mFebuari\u001b[39m\u001b[38;5;124m\"\u001b[39m\n\u001b[1;32m---> 23\u001b[0m \u001b[38;5;28;01melif\u001b[39;00m \u001b[43mlist_Tgl\u001b[49m\u001b[43m[\u001b[49m\u001b[38;5;241;43m3\u001b[39;49m\u001b[43m]\u001b[49m\u001b[38;5;241m==\u001b[39m\u001b[38;5;124m\"\u001b[39m\u001b[38;5;124m03\u001b[39m\u001b[38;5;124m\"\u001b[39m :\n\u001b[0;32m     24\u001b[0m     keterangan \u001b[38;5;241m=\u001b[39m\u001b[38;5;124m\"\u001b[39m\u001b[38;5;124mMaret\u001b[39m\u001b[38;5;124m\"\u001b[39m\n\u001b[0;32m     25\u001b[0m \u001b[38;5;28;01melif\u001b[39;00m list_Tgl[\u001b[38;5;241m4\u001b[39m]\u001b[38;5;241m==\u001b[39m\u001b[38;5;124m\"\u001b[39m\u001b[38;5;124m04\u001b[39m\u001b[38;5;124m\"\u001b[39m :\n",
      "\u001b[1;31mIndexError\u001b[0m: list index out of range"
     ]
    }
   ],
   "source": [
    "# Isikan Nama Anda : Rizqi Wijaya\n",
    "# Isikan Tanggal Lahir : 18/02/2004\n",
    "# Output:\n",
    "# Nama Awal : Rizqi\n",
    "# Nama Akhir : Wijaya\n",
    "# Tgl Lahir : 18\n",
    "# Bulan Lahir : 02\n",
    "# Tahun Lahir : 2004\n",
    "# Nama Inisial : RW\n",
    "\n",
    "Nama = input(\"Isikan Nama Anda : \")\n",
    "Tgl = input (\"Isikan Tanggal Lahir : \")\n",
    "\n",
    "list_nama =(nama.split())\n",
    "print(\"Nama Awal :\" ,list_nama[0])\n",
    "print(\"Nama Akhir :\" ,list_nama[1])\n",
    "\n",
    "list_Tgl =(Tgl.split(\"/\"))\n",
    "if list_Tgl[1]==\"01\" :\n",
    "    keterangan =\"Januari\"\n",
    "elif list_Tgl[2]==\"02\" :\n",
    "    keterangan =\"Febuari\"\n",
    "elif list_Tgl[3]==\"03\" :\n",
    "    keterangan =\"Maret\"\n",
    "elif list_Tgl[4]==\"04\" :\n",
    "    keterangan =\"April\"\n",
    "elif list_Tgl[5]==\"05\" :\n",
    "    keterangan =\"Mei\"\n",
    "elif list_Tgl[6]==\"06\" :\n",
    "    keterangan =\"Juni\"\n",
    "elif list_Tgl[7]==\"07\" :\n",
    "    keterangan =\"Juli\"\n",
    "elif list_Tgl[8]==\"08\" :\n",
    "    keterangan =\"Agustus\"\n",
    "elif list_Tgl[9]==\"09\" :\n",
    "    keterangan =\"September\"\n",
    "elif list_Tgl[10]==\"10\" :\n",
    "    keterangan =\"Oktober\"\n",
    "elif list_Tgl[11]==\"11\" :\n",
    "    keterangan =\"November\"\n",
    "elif list_Tgl[12]==\"12\" :\n",
    "    keterangan =\"Desember\"\n",
    "    \n",
    "print (\"Tanggal Lahir : \",list_Tgl[0])\n",
    "print(\"Bulan Lahir : \",list_Tgl[1])\n",
    "print(\"Tahun Lahir : \",list_Tgl[2])\n",
    "print (\"inisial : \",list_nama[0][0]+list_nama[1][0])"
   ]
  },
  {
   "cell_type": "code",
   "execution_count": null,
   "id": "8c8aa829",
   "metadata": {},
   "outputs": [],
   "source": []
  }
 ],
 "metadata": {
  "kernelspec": {
   "display_name": "Python 3 (ipykernel)",
   "language": "python",
   "name": "python3"
  },
  "language_info": {
   "codemirror_mode": {
    "name": "ipython",
    "version": 3
   },
   "file_extension": ".py",
   "mimetype": "text/x-python",
   "name": "python",
   "nbconvert_exporter": "python",
   "pygments_lexer": "ipython3",
   "version": "3.9.12"
  }
 },
 "nbformat": 4,
 "nbformat_minor": 5
}
